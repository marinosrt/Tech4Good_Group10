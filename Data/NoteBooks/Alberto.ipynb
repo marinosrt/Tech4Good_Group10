{
 "cells": [
  {
   "cell_type": "code",
   "execution_count": 1,
   "metadata": {},
   "outputs": [],
   "source": [
    "import pandas as pd"
   ]
  },
  {
   "cell_type": "code",
   "execution_count": 3,
   "metadata": {},
   "outputs": [
    {
     "name": "stderr",
     "output_type": "stream",
     "text": [
      "/var/folders/7_/wtpklm7d29b6qsh6x2_wd4_c0000gn/T/ipykernel_75841/258756981.py:1: DtypeWarning: Columns (35,37) have mixed types. Specify dtype option on import or set low_memory=False.\n",
      "  censo_comercios=pd.read_csv('../datos CSV/2019_censcomercialbcn_detall.csv.crdownload')\n"
     ]
    }
   ],
   "source": [
    "censo_comercios=pd.read_csv('../datos CSV/2019_censcomercialbcn_detall.csv.crdownload')\n",
    "precios=pd.read_csv('../datos CSV/locveevolucio.csv')"
   ]
  },
  {
   "cell_type": "code",
   "execution_count": 4,
   "metadata": {},
   "outputs": [],
   "source": [
    "censo_comercios= censo_comercios[censo_comercios['Nom_Activitat']!='Sense informació']\n",
    "\n",
    "comercio_columns=['Nom_Activitat', \n",
    "                  'Nom_Via',\n",
    "                  'Nom_Barri',\n",
    "                  'Nom_CComercial',\n",
    "                  'Latitud', \n",
    "                  'Longitud']\n",
    "\n",
    "\n",
    "censo_comercios=censo_comercios[comercio_columns]\n",
    "\n",
    "censo_comercios_by_barris=censo_comercios.groupby(by=['Nom_Barri','Nom_Activitat'], \n",
    "                                                  as_index=False).count()\n",
    "\n",
    "censo_comercios_by_barris['Num_comercios']=censo_comercios_by_barris['Latitud']\n",
    "\n",
    "censo_comercios_by_barris=censo_comercios_by_barris.drop(['Nom_Via','Nom_CComercial','Latitud','Longitud'], \n",
    "                                                         axis=1)"
   ]
  },
  {
   "cell_type": "code",
   "execution_count": 5,
   "metadata": {},
   "outputs": [
    {
     "data": {
      "text/html": [
       "<div>\n",
       "<style scoped>\n",
       "    .dataframe tbody tr th:only-of-type {\n",
       "        vertical-align: middle;\n",
       "    }\n",
       "\n",
       "    .dataframe tbody tr th {\n",
       "        vertical-align: top;\n",
       "    }\n",
       "\n",
       "    .dataframe thead th {\n",
       "        text-align: right;\n",
       "    }\n",
       "</style>\n",
       "<table border=\"1\" class=\"dataframe\">\n",
       "  <thead>\n",
       "    <tr style=\"text-align: right;\">\n",
       "      <th></th>\n",
       "      <th>Nom_Barri</th>\n",
       "      <th>Nom_Activitat</th>\n",
       "      <th>Num_comercios</th>\n",
       "    </tr>\n",
       "  </thead>\n",
       "  <tbody>\n",
       "    <tr>\n",
       "      <th>476</th>\n",
       "      <td>Pedralbes</td>\n",
       "      <td>Bars especials amb actuació / Bars musicals / ...</td>\n",
       "      <td>1</td>\n",
       "    </tr>\n",
       "    <tr>\n",
       "      <th>539</th>\n",
       "      <td>Porta</td>\n",
       "      <td>Combustibles i carburants</td>\n",
       "      <td>1</td>\n",
       "    </tr>\n",
       "    <tr>\n",
       "      <th>2802</th>\n",
       "      <td>el Turó de la Peira</td>\n",
       "      <td>Serveis de menjar take away MENJAR RÀPID</td>\n",
       "      <td>1</td>\n",
       "    </tr>\n",
       "    <tr>\n",
       "      <th>2787</th>\n",
       "      <td>el Turó de la Peira</td>\n",
       "      <td>Maquinària</td>\n",
       "      <td>1</td>\n",
       "    </tr>\n",
       "    <tr>\n",
       "      <th>2785</th>\n",
       "      <td>el Turó de la Peira</td>\n",
       "      <td>Locals buits en venda i lloguer</td>\n",
       "      <td>1</td>\n",
       "    </tr>\n",
       "    <tr>\n",
       "      <th>...</th>\n",
       "      <td>...</td>\n",
       "      <td>...</td>\n",
       "      <td>...</td>\n",
       "    </tr>\n",
       "    <tr>\n",
       "      <th>907</th>\n",
       "      <td>Sant Gervasi - Galvany</td>\n",
       "      <td>Vestir</td>\n",
       "      <td>274</td>\n",
       "    </tr>\n",
       "    <tr>\n",
       "      <th>4126</th>\n",
       "      <td>la Vila de Gràcia</td>\n",
       "      <td>Serveis a les empreses i oficines</td>\n",
       "      <td>283</td>\n",
       "    </tr>\n",
       "    <tr>\n",
       "      <th>3096</th>\n",
       "      <td>la Dreta de l'Eixample</td>\n",
       "      <td>Vestir</td>\n",
       "      <td>379</td>\n",
       "    </tr>\n",
       "    <tr>\n",
       "      <th>3083</th>\n",
       "      <td>la Dreta de l'Eixample</td>\n",
       "      <td>Restaurants</td>\n",
       "      <td>393</td>\n",
       "    </tr>\n",
       "    <tr>\n",
       "      <th>2868</th>\n",
       "      <td>l'Antiga Esquerra de l'Eixample</td>\n",
       "      <td>Restaurants</td>\n",
       "      <td>448</td>\n",
       "    </tr>\n",
       "  </tbody>\n",
       "</table>\n",
       "<p>4325 rows × 3 columns</p>\n",
       "</div>"
      ],
      "text/plain": [
       "                            Nom_Barri  \\\n",
       "476                         Pedralbes   \n",
       "539                             Porta   \n",
       "2802              el Turó de la Peira   \n",
       "2787              el Turó de la Peira   \n",
       "2785              el Turó de la Peira   \n",
       "...                               ...   \n",
       "907            Sant Gervasi - Galvany   \n",
       "4126                la Vila de Gràcia   \n",
       "3096           la Dreta de l'Eixample   \n",
       "3083           la Dreta de l'Eixample   \n",
       "2868  l'Antiga Esquerra de l'Eixample   \n",
       "\n",
       "                                          Nom_Activitat  Num_comercios  \n",
       "476   Bars especials amb actuació / Bars musicals / ...              1  \n",
       "539                           Combustibles i carburants              1  \n",
       "2802           Serveis de menjar take away MENJAR RÀPID              1  \n",
       "2787                                         Maquinària              1  \n",
       "2785                    Locals buits en venda i lloguer              1  \n",
       "...                                                 ...            ...  \n",
       "907                                              Vestir            274  \n",
       "4126                  Serveis a les empreses i oficines            283  \n",
       "3096                                             Vestir            379  \n",
       "3083                                        Restaurants            393  \n",
       "2868                                        Restaurants            448  \n",
       "\n",
       "[4325 rows x 3 columns]"
      ]
     },
     "execution_count": 5,
     "metadata": {},
     "output_type": "execute_result"
    }
   ],
   "source": [
    "censo_comercios_by_barris.sort_values(by='Num_comercios',\n",
    "                                      ascending=True)"
   ]
  },
  {
   "cell_type": "code",
   "execution_count": 6,
   "metadata": {},
   "outputs": [
    {
     "name": "stderr",
     "output_type": "stream",
     "text": [
      "/var/folders/7_/wtpklm7d29b6qsh6x2_wd4_c0000gn/T/ipykernel_75841/194330132.py:1: FutureWarning: The default value of regex will change from True to False in a future version.\n",
      "  precios['BARRIS'] = precios['BARRIS'].str.replace('[\\.,0-9]', '')\n"
     ]
    },
    {
     "data": {
      "text/plain": [
       "DTE           int64\n",
       "Nom_Barri    object\n",
       "2011         object\n",
       "2010         object\n",
       "2009         object\n",
       "2008         object\n",
       "dtype: object"
      ]
     },
     "execution_count": 6,
     "metadata": {},
     "output_type": "execute_result"
    }
   ],
   "source": [
    "precios['BARRIS'] = precios['BARRIS'].str.replace('[\\.,0-9]', '')\n",
    "precios['BARRIS'] = precios['BARRIS'].str.strip()\n",
    "relabel = {\n",
    "    'BARRIS': 'Nom_Barri', \n",
    "    'DOSZEROONZE': '2011', \n",
    "    'DOSZERODEU': '2010', \n",
    "    'DOSZEROZERONOU': '2009', \n",
    "    'DOSZEROZEROVUIT': '2008'\n",
    "    }\n",
    "\n",
    "precios.rename(columns=relabel, \n",
    "               inplace=True)\n",
    "\n",
    "precios.dtypes"
   ]
  },
  {
   "cell_type": "code",
   "execution_count": 7,
   "metadata": {},
   "outputs": [
    {
     "name": "stderr",
     "output_type": "stream",
     "text": [
      "/var/folders/7_/wtpklm7d29b6qsh6x2_wd4_c0000gn/T/ipykernel_75841/165280442.py:3: FutureWarning: The default value of regex will change from True to False in a future version. In addition, single character regular expressions will *not* be treated as literal strings when regex=True.\n",
      "  precios[year] = precios[year].str.replace('.', '')\n"
     ]
    },
    {
     "data": {
      "text/plain": [
       "DTE            int64\n",
       "Nom_Barri     object\n",
       "2011         float64\n",
       "2010         float64\n",
       "2009         float64\n",
       "2008         float64\n",
       "dtype: object"
      ]
     },
     "execution_count": 7,
     "metadata": {},
     "output_type": "execute_result"
    }
   ],
   "source": [
    "years=['2011','2010','2009','2008']\n",
    "for year in years:\n",
    "    precios[year] = precios[year].str.replace('.', '')\n",
    "    precios[year] = precios[year].str.replace('--', '')\n",
    "    precios[year] = pd.to_numeric(precios[year])\n",
    "    \n",
    "precios.dtypes"
   ]
  },
  {
   "cell_type": "code",
   "execution_count": 8,
   "metadata": {},
   "outputs": [],
   "source": [
    "precios['precio_max'] = precios[years].max(axis=1)\n",
    "precios['precio_min'] = precios[years].min(axis=1)"
   ]
  },
  {
   "cell_type": "code",
   "execution_count": 9,
   "metadata": {},
   "outputs": [
    {
     "data": {
      "text/plain": [
       "False    61\n",
       "True     12\n",
       "Name: precio_max, dtype: int64"
      ]
     },
     "execution_count": 9,
     "metadata": {},
     "output_type": "execute_result"
    }
   ],
   "source": [
    "precios_by_barri=precios[['Nom_Barri','precio_max','precio_min']]\n",
    "precios_by_barri.precio_max.isnull().value_counts()"
   ]
  },
  {
   "cell_type": "code",
   "execution_count": 10,
   "metadata": {},
   "outputs": [],
   "source": [
    "merged_comercios=pd.merge(censo_comercios_by_barris,\n",
    "                          precios_by_barri, \n",
    "                          on='Nom_Barri',\n",
    "                          how='inner')"
   ]
  },
  {
   "cell_type": "code",
   "execution_count": 11,
   "metadata": {},
   "outputs": [
    {
     "data": {
      "text/html": [
       "<div>\n",
       "<style scoped>\n",
       "    .dataframe tbody tr th:only-of-type {\n",
       "        vertical-align: middle;\n",
       "    }\n",
       "\n",
       "    .dataframe tbody tr th {\n",
       "        vertical-align: top;\n",
       "    }\n",
       "\n",
       "    .dataframe thead th {\n",
       "        text-align: right;\n",
       "    }\n",
       "</style>\n",
       "<table border=\"1\" class=\"dataframe\">\n",
       "  <thead>\n",
       "    <tr style=\"text-align: right;\">\n",
       "      <th></th>\n",
       "      <th>Nom_Barri</th>\n",
       "      <th>Nom_Activitat</th>\n",
       "      <th>Num_comercios</th>\n",
       "      <th>precio_max</th>\n",
       "      <th>precio_min</th>\n",
       "    </tr>\n",
       "  </thead>\n",
       "  <tbody>\n",
       "    <tr>\n",
       "      <th>0</th>\n",
       "      <td>Baró de Viver</td>\n",
       "      <td>Altres</td>\n",
       "      <td>2</td>\n",
       "      <td>NaN</td>\n",
       "      <td>NaN</td>\n",
       "    </tr>\n",
       "    <tr>\n",
       "      <th>1</th>\n",
       "      <td>Baró de Viver</td>\n",
       "      <td>Altres equipaments esportius</td>\n",
       "      <td>2</td>\n",
       "      <td>NaN</td>\n",
       "      <td>NaN</td>\n",
       "    </tr>\n",
       "    <tr>\n",
       "      <th>2</th>\n",
       "      <td>Baró de Viver</td>\n",
       "      <td>Associacions</td>\n",
       "      <td>3</td>\n",
       "      <td>NaN</td>\n",
       "      <td>NaN</td>\n",
       "    </tr>\n",
       "    <tr>\n",
       "      <th>3</th>\n",
       "      <td>Baró de Viver</td>\n",
       "      <td>Autoservei / Supermercat</td>\n",
       "      <td>3</td>\n",
       "      <td>NaN</td>\n",
       "      <td>NaN</td>\n",
       "    </tr>\n",
       "    <tr>\n",
       "      <th>4</th>\n",
       "      <td>Baró de Viver</td>\n",
       "      <td>Ensenyament</td>\n",
       "      <td>4</td>\n",
       "      <td>NaN</td>\n",
       "      <td>NaN</td>\n",
       "    </tr>\n",
       "    <tr>\n",
       "      <th>...</th>\n",
       "      <td>...</td>\n",
       "      <td>...</td>\n",
       "      <td>...</td>\n",
       "      <td>...</td>\n",
       "      <td>...</td>\n",
       "    </tr>\n",
       "    <tr>\n",
       "      <th>4105</th>\n",
       "      <td>les Tres Torres</td>\n",
       "      <td>Vehicles</td>\n",
       "      <td>3</td>\n",
       "      <td>4235.0</td>\n",
       "      <td>2411.0</td>\n",
       "    </tr>\n",
       "    <tr>\n",
       "      <th>4106</th>\n",
       "      <td>les Tres Torres</td>\n",
       "      <td>Vestir</td>\n",
       "      <td>3</td>\n",
       "      <td>4235.0</td>\n",
       "      <td>2411.0</td>\n",
       "    </tr>\n",
       "    <tr>\n",
       "      <th>4107</th>\n",
       "      <td>les Tres Torres</td>\n",
       "      <td>Veterinaris / Mascotes</td>\n",
       "      <td>3</td>\n",
       "      <td>4235.0</td>\n",
       "      <td>2411.0</td>\n",
       "    </tr>\n",
       "    <tr>\n",
       "      <th>4108</th>\n",
       "      <td>les Tres Torres</td>\n",
       "      <td>serveis d'allotjament</td>\n",
       "      <td>4</td>\n",
       "      <td>4235.0</td>\n",
       "      <td>2411.0</td>\n",
       "    </tr>\n",
       "    <tr>\n",
       "      <th>4109</th>\n",
       "      <td>les Tres Torres</td>\n",
       "      <td>Òptiques</td>\n",
       "      <td>2</td>\n",
       "      <td>4235.0</td>\n",
       "      <td>2411.0</td>\n",
       "    </tr>\n",
       "  </tbody>\n",
       "</table>\n",
       "<p>4110 rows × 5 columns</p>\n",
       "</div>"
      ],
      "text/plain": [
       "            Nom_Barri                 Nom_Activitat  Num_comercios  \\\n",
       "0       Baró de Viver                        Altres              2   \n",
       "1       Baró de Viver  Altres equipaments esportius              2   \n",
       "2       Baró de Viver                  Associacions              3   \n",
       "3       Baró de Viver      Autoservei / Supermercat              3   \n",
       "4       Baró de Viver                   Ensenyament              4   \n",
       "...               ...                           ...            ...   \n",
       "4105  les Tres Torres                      Vehicles              3   \n",
       "4106  les Tres Torres                        Vestir              3   \n",
       "4107  les Tres Torres        Veterinaris / Mascotes              3   \n",
       "4108  les Tres Torres         serveis d'allotjament              4   \n",
       "4109  les Tres Torres                     Òptiques               2   \n",
       "\n",
       "      precio_max  precio_min  \n",
       "0            NaN         NaN  \n",
       "1            NaN         NaN  \n",
       "2            NaN         NaN  \n",
       "3            NaN         NaN  \n",
       "4            NaN         NaN  \n",
       "...          ...         ...  \n",
       "4105      4235.0      2411.0  \n",
       "4106      4235.0      2411.0  \n",
       "4107      4235.0      2411.0  \n",
       "4108      4235.0      2411.0  \n",
       "4109      4235.0      2411.0  \n",
       "\n",
       "[4110 rows x 5 columns]"
      ]
     },
     "execution_count": 11,
     "metadata": {},
     "output_type": "execute_result"
    }
   ],
   "source": [
    "merged_comercios"
   ]
  },
  {
   "cell_type": "code",
   "execution_count": 17,
   "metadata": {},
   "outputs": [],
   "source": [
    "centros_comerciales=pd.read_csv('../Datos CSV/opendatagrans-centres-comercials.csv',\n",
    "                                encoding='utf16')"
   ]
  },
  {
   "cell_type": "code",
   "execution_count": 18,
   "metadata": {},
   "outputs": [],
   "source": [
    "centros_comerciales_by_barri=centros_comerciales[['addresses_district_name','name']].\\\n",
    "    groupby(by='addresses_district_name',\n",
    "            as_index=False).count()\n",
    "    \n",
    "relabel = {\n",
    "    'addresses_district_name': 'Nom_Barri', \n",
    "    'name': 'Numero_Gran_centres_comercials'\n",
    "    }\n",
    "\n",
    "centros_comerciales_by_barri.rename(columns=relabel, \n",
    "                                    inplace=True)\n",
    "\n",
    "merged_comercios=pd.merge(merged_comercios,\n",
    "                          centros_comerciales_by_barri, \n",
    "                          on='Nom_Barri',\n",
    "                          how='left')"
   ]
  },
  {
   "cell_type": "code",
   "execution_count": 19,
   "metadata": {},
   "outputs": [],
   "source": [
    "galerias_comerciales=pd.read_csv('../Datos CSV/opendata_galeries-comercials.csv',\n",
    "                                encoding='utf16')"
   ]
  },
  {
   "cell_type": "code",
   "execution_count": 20,
   "metadata": {},
   "outputs": [],
   "source": [
    "galerias_comerciales_by_barri=galerias_comerciales[['addresses_district_name','name']].\\\n",
    "    groupby(by='addresses_district_name',\n",
    "            as_index=False).count()\n",
    "    \n",
    "relabel = {\n",
    "    'addresses_district_name': 'Nom_Barri', \n",
    "    'name': 'Numero_Galerias_comercials'\n",
    "    }\n",
    "\n",
    "galerias_comerciales_by_barri.rename(columns=relabel, \n",
    "                                    inplace=True)\n",
    "\n",
    "merged_comercios=pd.merge(merged_comercios,\n",
    "                          galerias_comerciales_by_barri, \n",
    "                          on='Nom_Barri',\n",
    "                          how='left')"
   ]
  },
  {
   "cell_type": "code",
   "execution_count": 22,
   "metadata": {},
   "outputs": [],
   "source": [
    "mercats_firas_carrer_comerciales=pd.read_csv('../Datos CSV/opendata_mercats-fires-al-carrer.csv',\n",
    "                                encoding='utf16')"
   ]
  },
  {
   "cell_type": "code",
   "execution_count": 23,
   "metadata": {},
   "outputs": [],
   "source": [
    "mercats_firas_carrer_comerciales_by_barri=mercats_firas_carrer_comerciales[['addresses_district_name','name']].\\\n",
    "    groupby(by='addresses_district_name',\n",
    "            as_index=False).count()\n",
    "    \n",
    "relabel = {\n",
    "    'addresses_district_name': 'Nom_Barri', \n",
    "    'name': 'Numero_mercats_firas_al_carrer'\n",
    "    }\n",
    "\n",
    "mercats_firas_carrer_comerciales_by_barri.rename(columns=relabel, \n",
    "                                    inplace=True)\n",
    "\n",
    "merged_comercios=pd.merge(merged_comercios,\n",
    "                          mercats_firas_carrer_comerciales_by_barri, \n",
    "                          on='Nom_Barri',\n",
    "                          how='left')"
   ]
  },
  {
   "cell_type": "code",
   "execution_count": 24,
   "metadata": {},
   "outputs": [],
   "source": [
    "mercats_municipals_comerciales=pd.read_csv('../Datos CSV/opendata_mercats-municipals.csv',\n",
    "                                encoding='utf16')"
   ]
  },
  {
   "cell_type": "code",
   "execution_count": 25,
   "metadata": {},
   "outputs": [],
   "source": [
    "mercats_municipals_comerciales_by_barri=mercats_municipals_comerciales[['addresses_district_name','name']].\\\n",
    "    groupby(by='addresses_district_name',\n",
    "            as_index=False).count()\n",
    "    \n",
    "relabel = {\n",
    "    'addresses_district_name': 'Nom_Barri', \n",
    "    'name': 'Numero_mercats_municipals'\n",
    "    }\n",
    "\n",
    "mercats_municipals_comerciales_by_barri.rename(columns=relabel, \n",
    "                                    inplace=True)\n",
    "\n",
    "merged_comercios=pd.merge(merged_comercios,\n",
    "                          mercats_municipals_comerciales_by_barri, \n",
    "                          on='Nom_Barri',\n",
    "                          how='left')"
   ]
  },
  {
   "cell_type": "code",
   "execution_count": 26,
   "metadata": {},
   "outputs": [],
   "source": [
    "merged_comercios['Numero_Gran_centres_comercials'] = merged_comercios['Numero_Gran_centres_comercials'].fillna(0)\n",
    "merged_comercios['Numero_Galerias_comercials'] = merged_comercios['Numero_Galerias_comercials'].fillna(0)\n",
    "merged_comercios['Numero_mercats_firas_al_carrer'] = merged_comercios['Numero_mercats_firas_al_carrer'].fillna(0)\n",
    "merged_comercios['Numero_mercats_municipals'] = merged_comercios['Numero_mercats_municipals'].fillna(0)"
   ]
  },
  {
   "cell_type": "code",
   "execution_count": 27,
   "metadata": {},
   "outputs": [],
   "source": [
    "merged_comercios.to_json('../JSON listos/tabla_resumen.json', orient='records')"
   ]
  },
  {
   "cell_type": "code",
   "execution_count": null,
   "metadata": {},
   "outputs": [],
   "source": []
  }
 ],
 "metadata": {
  "kernelspec": {
   "display_name": "lewagon",
   "language": "python",
   "name": "python3"
  },
  "language_info": {
   "codemirror_mode": {
    "name": "ipython",
    "version": 3
   },
   "file_extension": ".py",
   "mimetype": "text/x-python",
   "name": "python",
   "nbconvert_exporter": "python",
   "pygments_lexer": "ipython3",
   "version": "3.10.6"
  },
  "orig_nbformat": 4
 },
 "nbformat": 4,
 "nbformat_minor": 2
}
