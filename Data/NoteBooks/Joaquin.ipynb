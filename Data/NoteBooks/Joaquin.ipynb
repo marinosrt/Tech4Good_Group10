{
 "cells": [
  {
   "cell_type": "code",
   "execution_count": 2,
   "id": "8f82a5d4",
   "metadata": {},
   "outputs": [],
   "source": [
    "import pandas as pd\n",
    "import numpy as np"
   ]
  },
  {
   "attachments": {},
   "cell_type": "markdown",
   "id": "213f0d84",
   "metadata": {},
   "source": [
    "#### Cleaning the Censo dataset\n",
    "\n",
    "This dataset contains information on the average price of rent in different neighborhoods of Barcelona"
   ]
  },
  {
   "cell_type": "code",
   "execution_count": 3,
   "id": "aca54281",
   "metadata": {
    "scrolled": true
   },
   "outputs": [],
   "source": [
    "# Estimacion del precio mensual de locales commerciales por barrio en años 2011, 2010, 2009, 2008\n",
    "df1 = pd.read_csv('../Datos CSV/locveevolucio.csv')\n",
    "relabel = {'BARRIS': 'NOM', 'DOSZEROONZE': '2011', 'DOSZERODEU': '2010', 'DOSZEROZERONOU': '2009', 'DOSZEROZEROVUIT': '2008'}\n",
    "df1.rename(columns=relabel, inplace=True)\n",
    "df1.drop(columns='DTE', inplace=True)"
   ]
  },
  {
   "cell_type": "code",
   "execution_count": 4,
   "id": "39841f65",
   "metadata": {},
   "outputs": [],
   "source": [
    "# Function to clean the data\n",
    "def replace_characters(df, columns):\n",
    "    for column in columns:\n",
    "        df[column] = df[column].str.replace('[\\.,]', '')\n",
    "        df[column] = df[column].str.strip()\n",
    "    return df\n",
    "\n",
    "def remove_numbers(df, columns):\n",
    "    for column in columns:\n",
    "        df[column] = df[column].str.replace('\\d', '')\n",
    "        df[column] = df[column].str.strip()\n",
    "    return df"
   ]
  },
  {
   "cell_type": "code",
   "execution_count": 6,
   "id": "e5405327",
   "metadata": {},
   "outputs": [
    {
     "name": "stderr",
     "output_type": "stream",
     "text": [
      "/var/folders/hp/ytf1kqk92hd11vlmtk9zz38r0000gn/T/ipykernel_50542/1137789237.py:4: FutureWarning: The default value of regex will change from True to False in a future version.\n",
      "  df[column] = df[column].str.replace('[\\.,]', '')\n",
      "/var/folders/hp/ytf1kqk92hd11vlmtk9zz38r0000gn/T/ipykernel_50542/1137789237.py:10: FutureWarning: The default value of regex will change from True to False in a future version.\n",
      "  df[column] = df[column].str.replace('\\d', '')\n"
     ]
    },
    {
     "data": {
      "text/html": [
       "<div>\n",
       "<style scoped>\n",
       "    .dataframe tbody tr th:only-of-type {\n",
       "        vertical-align: middle;\n",
       "    }\n",
       "\n",
       "    .dataframe tbody tr th {\n",
       "        vertical-align: top;\n",
       "    }\n",
       "\n",
       "    .dataframe thead th {\n",
       "        text-align: right;\n",
       "    }\n",
       "</style>\n",
       "<table border=\"1\" class=\"dataframe\">\n",
       "  <thead>\n",
       "    <tr style=\"text-align: right;\">\n",
       "      <th></th>\n",
       "      <th>NOM</th>\n",
       "      <th>2011</th>\n",
       "      <th>2010</th>\n",
       "      <th>2009</th>\n",
       "      <th>2008</th>\n",
       "    </tr>\n",
       "  </thead>\n",
       "  <tbody>\n",
       "    <tr>\n",
       "      <th>0</th>\n",
       "      <td>el Raval</td>\n",
       "      <td>2176</td>\n",
       "      <td>2445</td>\n",
       "      <td>2773</td>\n",
       "      <td>3065</td>\n",
       "    </tr>\n",
       "    <tr>\n",
       "      <th>1</th>\n",
       "      <td>el Barri Gòtic</td>\n",
       "      <td>2632</td>\n",
       "      <td>3026</td>\n",
       "      <td>3750</td>\n",
       "      <td>3828</td>\n",
       "    </tr>\n",
       "    <tr>\n",
       "      <th>2</th>\n",
       "      <td>la Barceloneta</td>\n",
       "      <td>2135</td>\n",
       "      <td>3005</td>\n",
       "      <td>--</td>\n",
       "      <td>--</td>\n",
       "    </tr>\n",
       "    <tr>\n",
       "      <th>3</th>\n",
       "      <td>Sant Pere Santa Caterina i la Ribera</td>\n",
       "      <td>2482</td>\n",
       "      <td>2828</td>\n",
       "      <td>3146</td>\n",
       "      <td>3450</td>\n",
       "    </tr>\n",
       "    <tr>\n",
       "      <th>4</th>\n",
       "      <td>el Fort Pienc</td>\n",
       "      <td>2224</td>\n",
       "      <td>2422</td>\n",
       "      <td>2736</td>\n",
       "      <td>2893</td>\n",
       "    </tr>\n",
       "    <tr>\n",
       "      <th>...</th>\n",
       "      <td>...</td>\n",
       "      <td>...</td>\n",
       "      <td>...</td>\n",
       "      <td>...</td>\n",
       "      <td>...</td>\n",
       "    </tr>\n",
       "    <tr>\n",
       "      <th>68</th>\n",
       "      <td>Diagonal Mar i el Front Marítim del Poblenou</td>\n",
       "      <td>2651</td>\n",
       "      <td>2991</td>\n",
       "      <td>2445</td>\n",
       "      <td>3752</td>\n",
       "    </tr>\n",
       "    <tr>\n",
       "      <th>69</th>\n",
       "      <td>el Besòs i el Maresme</td>\n",
       "      <td>2121</td>\n",
       "      <td>2751</td>\n",
       "      <td>2842</td>\n",
       "      <td>3669</td>\n",
       "    </tr>\n",
       "    <tr>\n",
       "      <th>70</th>\n",
       "      <td>Provençals del Poblenou</td>\n",
       "      <td>2255</td>\n",
       "      <td>2516</td>\n",
       "      <td>2660</td>\n",
       "      <td>3857</td>\n",
       "    </tr>\n",
       "    <tr>\n",
       "      <th>71</th>\n",
       "      <td>Sant Martí de Provençals</td>\n",
       "      <td>1812</td>\n",
       "      <td>2175</td>\n",
       "      <td>2266</td>\n",
       "      <td>1957</td>\n",
       "    </tr>\n",
       "    <tr>\n",
       "      <th>72</th>\n",
       "      <td>la Verneda i la Pau</td>\n",
       "      <td>1534</td>\n",
       "      <td>1915</td>\n",
       "      <td>1973</td>\n",
       "      <td>2199</td>\n",
       "    </tr>\n",
       "  </tbody>\n",
       "</table>\n",
       "<p>73 rows × 5 columns</p>\n",
       "</div>"
      ],
      "text/plain": [
       "                                             NOM  2011  2010  2009  2008\n",
       "0                                       el Raval  2176  2445  2773  3065\n",
       "1                                 el Barri Gòtic  2632  3026  3750  3828\n",
       "2                                 la Barceloneta  2135  3005    --    --\n",
       "3           Sant Pere Santa Caterina i la Ribera  2482  2828  3146  3450\n",
       "4                                  el Fort Pienc  2224  2422  2736  2893\n",
       "..                                           ...   ...   ...   ...   ...\n",
       "68  Diagonal Mar i el Front Marítim del Poblenou  2651  2991  2445  3752\n",
       "69                         el Besòs i el Maresme  2121  2751  2842  3669\n",
       "70                       Provençals del Poblenou  2255  2516  2660  3857\n",
       "71                      Sant Martí de Provençals  1812  2175  2266  1957\n",
       "72                           la Verneda i la Pau  1534  1915  1973  2199\n",
       "\n",
       "[73 rows x 5 columns]"
      ]
     },
     "execution_count": 6,
     "metadata": {},
     "output_type": "execute_result"
    }
   ],
   "source": [
    "# Cleaning the data, applying the functions\n",
    "replace_characters(df1, ['NOM', '2011', '2010', '2009', '2008'])\n",
    "remove_numbers(df1, ['NOM'])"
   ]
  },
  {
   "cell_type": "code",
   "execution_count": 7,
   "id": "dfbc7d5e",
   "metadata": {},
   "outputs": [
    {
     "name": "stderr",
     "output_type": "stream",
     "text": [
      "/Users/joaquinortega/.pyenv/versions/3.10.6/envs/lewagon/lib/python3.10/site-packages/pandas/core/frame.py:3641: SettingWithCopyWarning: \n",
      "A value is trying to be set on a copy of a slice from a DataFrame.\n",
      "Try using .loc[row_indexer,col_indexer] = value instead\n",
      "\n",
      "See the caveats in the documentation: https://pandas.pydata.org/pandas-docs/stable/user_guide/indexing.html#returning-a-view-versus-a-copy\n",
      "  self[k1] = value[k2]\n"
     ]
    }
   ],
   "source": [
    "df1 = df1[~(df1 == '--').any(axis=1)]\n",
    "# Correct data types\n",
    "df1[['2011', '2010', '2009', '2008']] = df1[['2011', '2010', '2009', '2008']].astype(int)"
   ]
  },
  {
   "cell_type": "code",
   "execution_count": 8,
   "id": "9b04021d",
   "metadata": {},
   "outputs": [
    {
     "name": "stderr",
     "output_type": "stream",
     "text": [
      "/var/folders/hp/ytf1kqk92hd11vlmtk9zz38r0000gn/T/ipykernel_50542/2974047653.py:1: SettingWithCopyWarning: \n",
      "A value is trying to be set on a copy of a slice from a DataFrame.\n",
      "Try using .loc[row_indexer,col_indexer] = value instead\n",
      "\n",
      "See the caveats in the documentation: https://pandas.pydata.org/pandas-docs/stable/user_guide/indexing.html#returning-a-view-versus-a-copy\n",
      "  df1['price level'] = df1['2011'] - df1['2011'].mean()\n"
     ]
    }
   ],
   "source": [
    "df1['price level'] = df1['2011'] - df1['2011'].mean()"
   ]
  },
  {
   "cell_type": "code",
   "execution_count": 11,
   "id": "3f113684",
   "metadata": {},
   "outputs": [
    {
     "data": {
      "text/html": [
       "<div>\n",
       "<style scoped>\n",
       "    .dataframe tbody tr th:only-of-type {\n",
       "        vertical-align: middle;\n",
       "    }\n",
       "\n",
       "    .dataframe tbody tr th {\n",
       "        vertical-align: top;\n",
       "    }\n",
       "\n",
       "    .dataframe thead th {\n",
       "        text-align: right;\n",
       "    }\n",
       "</style>\n",
       "<table border=\"1\" class=\"dataframe\">\n",
       "  <thead>\n",
       "    <tr style=\"text-align: right;\">\n",
       "      <th></th>\n",
       "      <th>NOM</th>\n",
       "      <th>2011</th>\n",
       "      <th>2010</th>\n",
       "      <th>2009</th>\n",
       "      <th>2008</th>\n",
       "      <th>price level</th>\n",
       "    </tr>\n",
       "  </thead>\n",
       "  <tbody>\n",
       "    <tr>\n",
       "      <th>0</th>\n",
       "      <td>el Raval</td>\n",
       "      <td>2176</td>\n",
       "      <td>2445</td>\n",
       "      <td>2773</td>\n",
       "      <td>3065</td>\n",
       "      <td>157.226415</td>\n",
       "    </tr>\n",
       "    <tr>\n",
       "      <th>1</th>\n",
       "      <td>el Barri Gòtic</td>\n",
       "      <td>2632</td>\n",
       "      <td>3026</td>\n",
       "      <td>3750</td>\n",
       "      <td>3828</td>\n",
       "      <td>613.226415</td>\n",
       "    </tr>\n",
       "    <tr>\n",
       "      <th>3</th>\n",
       "      <td>Sant Pere Santa Caterina i la Ribera</td>\n",
       "      <td>2482</td>\n",
       "      <td>2828</td>\n",
       "      <td>3146</td>\n",
       "      <td>3450</td>\n",
       "      <td>463.226415</td>\n",
       "    </tr>\n",
       "  </tbody>\n",
       "</table>\n",
       "</div>"
      ],
      "text/plain": [
       "                                    NOM  2011  2010  2009  2008  price level\n",
       "0                              el Raval  2176  2445  2773  3065   157.226415\n",
       "1                        el Barri Gòtic  2632  3026  3750  3828   613.226415\n",
       "3  Sant Pere Santa Caterina i la Ribera  2482  2828  3146  3450   463.226415"
      ]
     },
     "execution_count": 11,
     "metadata": {},
     "output_type": "execute_result"
    }
   ],
   "source": [
    "df1.head(3)"
   ]
  },
  {
   "cell_type": "code",
   "execution_count": 9,
   "id": "a2664a49",
   "metadata": {},
   "outputs": [],
   "source": [
    "# df1.to_csv('../Datos CSV/precios_clean.csv', index=False)"
   ]
  },
  {
   "attachments": {},
   "cell_type": "markdown",
   "id": "27676275",
   "metadata": {},
   "source": [
    "### Censo Comercial Dataset"
   ]
  },
  {
   "cell_type": "code",
   "execution_count": 12,
   "id": "1e96e6c1",
   "metadata": {},
   "outputs": [
    {
     "name": "stderr",
     "output_type": "stream",
     "text": [
      "/Users/joaquinortega/.pyenv/versions/3.10.6/envs/lewagon/lib/python3.10/site-packages/IPython/core/interactiveshell.py:3505: DtypeWarning: Columns (35,37) have mixed types.Specify dtype option on import or set low_memory=False.\n",
      "  exec(code_obj, self.user_global_ns, self.user_ns)\n"
     ]
    }
   ],
   "source": [
    "df2 = pd.read_csv('../Datos CSV/2019_censcomercialbcn_detall.csv')"
   ]
  },
  {
   "cell_type": "code",
   "execution_count": 13,
   "id": "03809144",
   "metadata": {},
   "outputs": [],
   "source": [
    "# direccion = 'Codi_Via', 'Nom_Via', 'Planta', 'Porta','Lletra_Inicial'\n",
    "censo_cols = ['ID_Bcn_2019','Nom_Principal_Activitat','Nom_Activitat','Nom_Sector_Activitat','Nom_Grup_Activitat','Nom_Local','Latitud','Longitud','Nom_Districte', 'Nom_Barri']\n",
    "censo_clean = pd.DataFrame(df2[censo_cols])\n",
    "censo_clean.rename(columns={'Nom_Principal_Activitat':'Actividad Economica','Nom_Activitat':'Nombre de Actividad', 'Nom_Barri': 'Nombre del Barrio'}, inplace=True)\n",
    "censo_clean['Actividad Economica'].replace({'Actiu': 'For Profit', 'Sense activitat Econòmica': 'Non Profit'}, inplace=True)"
   ]
  },
  {
   "cell_type": "code",
   "execution_count": 14,
   "id": "312d4d04",
   "metadata": {},
   "outputs": [],
   "source": [
    "first_lambda = ['Sense informació','altres','Altres ( per exemple VENDING)', 'Altres']"
   ]
  },
  {
   "cell_type": "code",
   "execution_count": 15,
   "id": "c00fc9b5",
   "metadata": {},
   "outputs": [],
   "source": [
    "# Cambiar con la tercera columna - Nom_Grup_Activitat = First Lambda\n",
    "censo_clean['Nombre de Actividad'] = censo_clean.apply(lambda row: row['Nom_Grup_Activitat'] if row['Nombre de Actividad'] in first_lambda else row['Nombre de Actividad'], axis=1)"
   ]
  },
  {
   "cell_type": "code",
   "execution_count": 16,
   "id": "17e6423b",
   "metadata": {},
   "outputs": [],
   "source": [
    "# Cambiar con la segunda columna - Nom_Sector_Activitat\n",
    "censo_clean['Nombre de Actividad'] = censo_clean.apply(lambda row: row['Nom_Sector_Activitat'] if row['Nombre de Actividad'] in first_lambda else row['Nombre de Actividad'], axis=1)"
   ]
  },
  {
   "cell_type": "code",
   "execution_count": 17,
   "id": "6b448095",
   "metadata": {},
   "outputs": [],
   "source": [
    "# pd.set_option('display.max_rows', None)\n",
    "# censo_clean['Nombre de Actividad'].value_counts()"
   ]
  },
  {
   "cell_type": "code",
   "execution_count": 18,
   "id": "7d7dd82c",
   "metadata": {},
   "outputs": [
    {
     "data": {
      "text/html": [
       "<div>\n",
       "<style scoped>\n",
       "    .dataframe tbody tr th:only-of-type {\n",
       "        vertical-align: middle;\n",
       "    }\n",
       "\n",
       "    .dataframe tbody tr th {\n",
       "        vertical-align: top;\n",
       "    }\n",
       "\n",
       "    .dataframe thead th {\n",
       "        text-align: right;\n",
       "    }\n",
       "</style>\n",
       "<table border=\"1\" class=\"dataframe\">\n",
       "  <thead>\n",
       "    <tr style=\"text-align: right;\">\n",
       "      <th></th>\n",
       "      <th>ID_Bcn_2019</th>\n",
       "      <th>Actividad Economica</th>\n",
       "      <th>Nombre de Actividad</th>\n",
       "      <th>Nom_Sector_Activitat</th>\n",
       "      <th>Nom_Grup_Activitat</th>\n",
       "      <th>Nom_Local</th>\n",
       "      <th>Latitud</th>\n",
       "      <th>Longitud</th>\n",
       "      <th>Nom_Districte</th>\n",
       "      <th>Nombre del Barrio</th>\n",
       "    </tr>\n",
       "  </thead>\n",
       "  <tbody>\n",
       "    <tr>\n",
       "      <th>0</th>\n",
       "      <td>1075454</td>\n",
       "      <td>For Profit</td>\n",
       "      <td>Serveis a les empreses i oficines</td>\n",
       "      <td>Serveis</td>\n",
       "      <td>Altres</td>\n",
       "      <td>SORIGUE</td>\n",
       "      <td>41.346101</td>\n",
       "      <td>2.130166</td>\n",
       "      <td>Sants-Montjuïc</td>\n",
       "      <td>la Marina del Prat Vermell</td>\n",
       "    </tr>\n",
       "    <tr>\n",
       "      <th>1</th>\n",
       "      <td>1075453</td>\n",
       "      <td>For Profit</td>\n",
       "      <td>Activitats emmagatzematge</td>\n",
       "      <td>Serveis</td>\n",
       "      <td>Altres</td>\n",
       "      <td>CEJIDOS SIVILA S.A</td>\n",
       "      <td>41.345939</td>\n",
       "      <td>2.129560</td>\n",
       "      <td>Sants-Montjuïc</td>\n",
       "      <td>la Marina del Prat Vermell</td>\n",
       "    </tr>\n",
       "    <tr>\n",
       "      <th>2</th>\n",
       "      <td>1075451</td>\n",
       "      <td>For Profit</td>\n",
       "      <td>Serveis a les empreses i oficines</td>\n",
       "      <td>Serveis</td>\n",
       "      <td>Altres</td>\n",
       "      <td>QUALITY ESPRESO</td>\n",
       "      <td>41.345591</td>\n",
       "      <td>2.128543</td>\n",
       "      <td>Sants-Montjuïc</td>\n",
       "      <td>la Marina del Prat Vermell</td>\n",
       "    </tr>\n",
       "    <tr>\n",
       "      <th>3</th>\n",
       "      <td>1075449</td>\n",
       "      <td>For Profit</td>\n",
       "      <td>Administració</td>\n",
       "      <td>Altres</td>\n",
       "      <td>Altres</td>\n",
       "      <td>CLD</td>\n",
       "      <td>41.346262</td>\n",
       "      <td>2.130599</td>\n",
       "      <td>Sants-Montjuïc</td>\n",
       "      <td>la Marina del Prat Vermell</td>\n",
       "    </tr>\n",
       "    <tr>\n",
       "      <th>4</th>\n",
       "      <td>1075448</td>\n",
       "      <td>For Profit</td>\n",
       "      <td>Activitats de transport</td>\n",
       "      <td>Serveis</td>\n",
       "      <td>Altres</td>\n",
       "      <td>CATALANA DEL BUTANO,S.A</td>\n",
       "      <td>41.346514</td>\n",
       "      <td>2.131271</td>\n",
       "      <td>Sants-Montjuïc</td>\n",
       "      <td>la Marina del Prat Vermell</td>\n",
       "    </tr>\n",
       "  </tbody>\n",
       "</table>\n",
       "</div>"
      ],
      "text/plain": [
       "   ID_Bcn_2019 Actividad Economica                Nombre de Actividad  \\\n",
       "0      1075454          For Profit  Serveis a les empreses i oficines   \n",
       "1      1075453          For Profit          Activitats emmagatzematge   \n",
       "2      1075451          For Profit  Serveis a les empreses i oficines   \n",
       "3      1075449          For Profit                      Administració   \n",
       "4      1075448          For Profit           Activitats de transport    \n",
       "\n",
       "  Nom_Sector_Activitat Nom_Grup_Activitat                Nom_Local    Latitud  \\\n",
       "0              Serveis             Altres                  SORIGUE  41.346101   \n",
       "1              Serveis             Altres       CEJIDOS SIVILA S.A  41.345939   \n",
       "2              Serveis             Altres          QUALITY ESPRESO  41.345591   \n",
       "3               Altres             Altres                      CLD  41.346262   \n",
       "4              Serveis             Altres  CATALANA DEL BUTANO,S.A  41.346514   \n",
       "\n",
       "   Longitud   Nom_Districte           Nombre del Barrio  \n",
       "0  2.130166  Sants-Montjuïc  la Marina del Prat Vermell  \n",
       "1  2.129560  Sants-Montjuïc  la Marina del Prat Vermell  \n",
       "2  2.128543  Sants-Montjuïc  la Marina del Prat Vermell  \n",
       "3  2.130599  Sants-Montjuïc  la Marina del Prat Vermell  \n",
       "4  2.131271  Sants-Montjuïc  la Marina del Prat Vermell  "
      ]
     },
     "execution_count": 18,
     "metadata": {},
     "output_type": "execute_result"
    }
   ],
   "source": [
    "censo_clean.head(5)"
   ]
  },
  {
   "cell_type": "code",
   "execution_count": 172,
   "id": "4fb48c66",
   "metadata": {},
   "outputs": [],
   "source": [
    "# censo_clean.to_csv('../Datos CSV/censo_clean.csv', index=False)"
   ]
  },
  {
   "cell_type": "code",
   "execution_count": 22,
   "id": "9fede68b",
   "metadata": {},
   "outputs": [],
   "source": [
    "# censo_clean.to_json('../JSON listos/censo_clean.json', orient='records')  "
   ]
  },
  {
   "attachments": {},
   "cell_type": "markdown",
   "id": "298c1a1c",
   "metadata": {},
   "source": [
    "### CSV Centro Comercial"
   ]
  },
  {
   "cell_type": "code",
   "execution_count": 130,
   "id": "93d038f1",
   "metadata": {},
   "outputs": [],
   "source": [
    "# Load the CSV - Centro Comercial\n",
    "centros_comerciales = pd.read_csv('../Datos CSV/opendatagrans-centres-comercials.csv', encoding='utf-16')\n",
    "# Add new column for categorization\n",
    "centros_comerciales['Tipo_Centro_Comercio'] = 'Centro Comercial'"
   ]
  },
  {
   "attachments": {},
   "cell_type": "markdown",
   "id": "0f22c489",
   "metadata": {},
   "source": [
    "### Galerias Comerciales"
   ]
  },
  {
   "cell_type": "code",
   "execution_count": 132,
   "id": "9794a041",
   "metadata": {},
   "outputs": [],
   "source": [
    "# Load the CSV - Galerias Comerciales\n",
    "galerias = pd.read_csv('../Datos CSV/opendata_galeries-comercials.csv', encoding='utf-16')\n",
    "# Add new column for categorization - Galerias Comerciales\n",
    "galerias['Tipo_Centro_Comercio'] = 'Galeria Comercial'"
   ]
  },
  {
   "attachments": {},
   "cell_type": "markdown",
   "id": "299a076f",
   "metadata": {},
   "source": [
    "### Mercats Fires al Carrer"
   ]
  },
  {
   "cell_type": "code",
   "execution_count": 134,
   "id": "75d94b8f",
   "metadata": {},
   "outputs": [],
   "source": [
    "# Add new column for categorization - Galerias Comerciales\n",
    "mercats_fires = pd.read_csv('../Datos CSV/opendata_mercats-fires-al-carrer.csv', encoding='utf-16')\n",
    "mercats_fires['Tipo_Centro_Comercio'] = 'Feria'"
   ]
  },
  {
   "attachments": {},
   "cell_type": "markdown",
   "id": "6b56e7a4",
   "metadata": {},
   "source": [
    "### Mercados Municipales"
   ]
  },
  {
   "cell_type": "code",
   "execution_count": 136,
   "id": "e9219981",
   "metadata": {},
   "outputs": [],
   "source": [
    "mercats_municipals = pd.read_csv('../Datos CSV/opendata_mercats-municipals.csv', encoding='utf-16')\n",
    "mercats_municipals['Tipo_Centro_Comercio'] = 'Mercado Municipal'"
   ]
  },
  {
   "attachments": {},
   "cell_type": "markdown",
   "id": "d50b5695",
   "metadata": {},
   "source": [
    "### Concatenation of Centros de Comercio"
   ]
  },
  {
   "cell_type": "code",
   "execution_count": 138,
   "id": "998cd5d8",
   "metadata": {},
   "outputs": [],
   "source": [
    "comercio_bcn = pd.concat([centros_comerciales, galerias, mercats_fires, mercats_municipals])\n",
    "comercio_cols = ['register_id','name','addresses_road_name','addresses_start_street_number','addresses_district_name','addresses_zip_code','geo_epgs_4326_x','geo_epgs_4326_y','Tipo_Centro_Comercio']\n",
    "filtered_comercio = pd.DataFrame(comercio_bcn[comercio_cols])\n",
    "filtered_comercio"
   ]
  },
  {
   "attachments": {},
   "cell_type": "markdown",
   "id": "6b58c8d5",
   "metadata": {},
   "source": []
  }
 ],
 "metadata": {
  "kernelspec": {
   "display_name": "Python 3 (ipykernel)",
   "language": "python",
   "name": "python3"
  },
  "language_info": {
   "codemirror_mode": {
    "name": "ipython",
    "version": 3
   },
   "file_extension": ".py",
   "mimetype": "text/x-python",
   "name": "python",
   "nbconvert_exporter": "python",
   "pygments_lexer": "ipython3",
   "version": "3.10.6"
  },
  "toc": {
   "base_numbering": 1,
   "nav_menu": {},
   "number_sections": true,
   "sideBar": true,
   "skip_h1_title": false,
   "title_cell": "Table of Contents",
   "title_sidebar": "Contents",
   "toc_cell": false,
   "toc_position": {},
   "toc_section_display": true,
   "toc_window_display": false
  }
 },
 "nbformat": 4,
 "nbformat_minor": 5
}
